{
 "cells": [
  {
   "cell_type": "code",
   "execution_count": 16,
   "metadata": {},
   "outputs": [],
   "source": [
    "import numpy as np\n",
    "import csv\n",
    "import pandas as pd\n",
    "import time\n",
    "from sklearn.preprocessing import Imputer\n",
    "from sklearn.preprocessing import scale\n",
    "from sklearn.cross_validation import KFold\n",
    "from sklearn.linear_model import LogisticRegression\n",
    "from sklearn.svm import SVC\n",
    "from sklearn.metrics import accuracy_score\n",
    "from sklearn.naive_bayes import GaussianNB\n",
    "import warnings\n",
    "warnings.filterwarnings('ignore')"
   ]
  },
  {
   "cell_type": "code",
   "execution_count": 2,
   "metadata": {
    "collapsed": true
   },
   "outputs": [],
   "source": [
    "DATA_DIR_PATH = '.\\data\\\\'\n",
    "TRAIN_FILE = DATA_DIR_PATH + 'training.csv'\n",
    "TEST_FILE = DATA_DIR_PATH + 'test.csv'"
   ]
  },
  {
   "cell_type": "markdown",
   "metadata": {},
   "source": [
    "### Print the Train Dataset"
   ]
  },
  {
   "cell_type": "code",
   "execution_count": 3,
   "metadata": {
    "collapsed": true
   },
   "outputs": [],
   "source": [
    "result = np.array(list(csv.reader(open(TRAIN_FILE, \"r\"), delimiter=\",\"))).astype(\"str\")"
   ]
  },
  {
   "cell_type": "code",
   "execution_count": 4,
   "metadata": {},
   "outputs": [
    {
     "data": {
      "text/plain": [
       "array([['REFID', 'ISBADBUY', 'PURCHDATE', ..., 'VEHBCOST', 'ISONLINESALE',\n",
       "        'WARRANTYCOST'],\n",
       "       ['1', '0', '12/7/2009', ..., '7100', '0', '1113'],\n",
       "       ['2', '0', '12/7/2009', ..., '7600', '0', '1053'],\n",
       "       ..., \n",
       "       ['73012', '0', '12/2/2009', ..., '8200', '0', '1893'],\n",
       "       ['73013', '0', '12/2/2009', ..., '7000', '0', '1974'],\n",
       "       ['73014', '0', '12/2/2009', ..., '8000', '0', '1313']], \n",
       "      dtype='<U33')"
      ]
     },
     "execution_count": 4,
     "metadata": {},
     "output_type": "execute_result"
    }
   ],
   "source": [
    "result = np.char.upper(result)\n",
    "result"
   ]
  },
  {
   "cell_type": "code",
   "execution_count": 5,
   "metadata": {},
   "outputs": [
    {
     "data": {
      "text/plain": [
       "array([['0'],\n",
       "       ['0'],\n",
       "       ['0'],\n",
       "       ..., \n",
       "       ['0'],\n",
       "       ['0'],\n",
       "       ['0']], \n",
       "      dtype='<U33')"
      ]
     },
     "execution_count": 5,
     "metadata": {},
     "output_type": "execute_result"
    }
   ],
   "source": [
    "y = result[1:,1:2]\n",
    "y"
   ]
  },
  {
   "cell_type": "markdown",
   "metadata": {},
   "source": [
    "### Print the number of examples of the 2 different classes"
   ]
  },
  {
   "cell_type": "code",
   "execution_count": 6,
   "metadata": {},
   "outputs": [
    {
     "data": {
      "text/plain": [
       "{'0': 64007, '1': 8976}"
      ]
     },
     "execution_count": 6,
     "metadata": {},
     "output_type": "execute_result"
    }
   ],
   "source": [
    "unique, counts = np.unique(y, return_counts=True)\n",
    "lbl_counts = dict(zip(unique, counts))\n",
    "lbl_counts"
   ]
  },
  {
   "cell_type": "markdown",
   "metadata": {},
   "source": [
    "### As seen below, This is Heavily Biased DataSet ! 87.7% belong to Class 0 and just 12.3% belong to Class 1"
   ]
  },
  {
   "cell_type": "code",
   "execution_count": 7,
   "metadata": {},
   "outputs": [
    {
     "name": "stdout",
     "output_type": "stream",
     "text": [
      "0.877012454955\n",
      "0.122987545045\n"
     ]
    }
   ],
   "source": [
    "#Data is Biased towards good cars\n",
    "print (lbl_counts['0'] / (lbl_counts['0'] + lbl_counts['1']))\n",
    "print (lbl_counts['1'] / (lbl_counts['0'] + lbl_counts['1']))"
   ]
  },
  {
   "cell_type": "markdown",
   "metadata": {},
   "source": [
    "### Remove the 2nd column ( Target label column), first row to make Train Matrix ready"
   ]
  },
  {
   "cell_type": "code",
   "execution_count": 8,
   "metadata": {},
   "outputs": [
    {
     "data": {
      "text/plain": [
       "array([['12/7/2009', 'ADESA', '2006', ..., '7100', '0', '1113'],\n",
       "       ['12/7/2009', 'ADESA', '2004', ..., '7600', '0', '1053'],\n",
       "       ['12/7/2009', 'ADESA', '2005', ..., '4900', '0', '1389'],\n",
       "       ..., \n",
       "       ['12/2/2009', 'ADESA', '2005', ..., '8200', '0', '1893'],\n",
       "       ['12/2/2009', 'ADESA', '2006', ..., '7000', '0', '1974'],\n",
       "       ['12/2/2009', 'ADESA', '2006', ..., '8000', '0', '1313']], \n",
       "      dtype='<U33')"
      ]
     },
     "execution_count": 8,
     "metadata": {},
     "output_type": "execute_result"
    }
   ],
   "source": [
    "X = np.delete(result,1,axis=1)\n",
    "X = X[1:,1:]\n",
    "X"
   ]
  },
  {
   "cell_type": "markdown",
   "metadata": {},
   "source": [
    "### Preprocess the Train Dataset :\n",
    "#### 1. Convert Dates to epoch times (Integer time)\n",
    "#### 2. Convert Categories in Strings to IDs\n",
    "#### 3. Replace Continous missing values by their mean\n",
    "#### 4. Replace Categorical missing values by a new ID\n",
    "#### 5. Convert to Zero Mean and Equal Variance\n",
    "#### 6. Remove the ID column. It is of no use"
   ]
  },
  {
   "cell_type": "code",
   "execution_count": 9,
   "metadata": {
    "collapsed": true
   },
   "outputs": [],
   "source": [
    "def category_to_int(column):\n",
    "    unique = np.unique(column)\n",
    "    return {k : v for v, k in enumerate(unique)}"
   ]
  },
  {
   "cell_type": "code",
   "execution_count": 10,
   "metadata": {
    "collapsed": true
   },
   "outputs": [],
   "source": [
    "def convert_to_epoch(dates):    \n",
    "    res = []    \n",
    "    pattern = '%m/%d/%Y'    \n",
    "    return np.array([int(time.mktime(time.strptime(date[0], pattern))) for date in dates])\n"
   ]
  },
  {
   "cell_type": "code",
   "execution_count": 11,
   "metadata": {
    "collapsed": true
   },
   "outputs": [],
   "source": [
    "def integerize_feature(col, cat_int):\n",
    "    total = len(col)\n",
    "    for i in range(total):\n",
    "        col[i] = cat_int[ col[i][0] ]\n",
    "    return col"
   ]
  },
  {
   "cell_type": "code",
   "execution_count": 12,
   "metadata": {},
   "outputs": [],
   "source": [
    "X[:,0:1] = convert_to_epoch(X[:,0:1]).reshape(len(X[:,0:1]),1)\n",
    "\n",
    "cat_int = category_to_int(X[:,1:2])\n",
    "X[:,1:2] = integerize_feature(X[:,1:2],cat_int).reshape(len(X[:,1:2]),1)\n",
    "\n",
    "cat_int = category_to_int(X[:,4:5])\n",
    "X[:,4:5] = integerize_feature(X[:,4:5],cat_int).reshape(len(X[:,4:5]),1)\n",
    "\n",
    "cat_int = category_to_int(X[:,5:6])\n",
    "X[:,5:6] = integerize_feature(X[:,5:6],cat_int).reshape(len(X[:,5:6]),1)\n",
    "\n",
    "cat_int = category_to_int(X[:,6:7])\n",
    "X[:,6:7] = integerize_feature(X[:,6:7],cat_int).reshape(len(X[:,6:7]),1)\n",
    "\n",
    "cat_int = category_to_int(X[:,7:8])\n",
    "X[:,7:8] = integerize_feature(X[:,7:8],cat_int).reshape(len(X[:,7:8]),1)\n",
    "\n",
    "cat_int = category_to_int(X[:,8:9])\n",
    "X[:,8:9] = integerize_feature(X[:,8:9],cat_int).reshape(len(X[:,8:9]),1)\n",
    "\n",
    "cat_int = category_to_int(X[:,9:10])\n",
    "X[:,9:10] = integerize_feature(X[:,9:10],cat_int).reshape(len(X[:,9:10]),1)\n",
    "\n",
    "cat_int = category_to_int(X[:,11:12])\n",
    "X[:,11:12] = integerize_feature(X[:,11:12],cat_int).reshape(len(X[:,11:12]),1)\n",
    "\n",
    "cat_int = category_to_int(X[:,13:14])\n",
    "X[:,13:14] = integerize_feature(X[:,13:14],cat_int).reshape(len(X[:,13:14]),1)\n",
    "\n",
    "cat_int = category_to_int(X[:,14:15])\n",
    "X[:,14:15] = integerize_feature(X[:,14:15],cat_int).reshape(len(X[:,14:15]),1)\n",
    "\n",
    "cat_int = category_to_int(X[:,15:16])\n",
    "X[:,15:16] = integerize_feature(X[:,15:16],cat_int).reshape(len(X[:,15:16]),1)\n",
    "\n",
    "cat_int = category_to_int(X[:,24:25])\n",
    "X[:,24:25] = integerize_feature(X[:,24:25],cat_int).reshape(len(X[:,24:25]),1)\n",
    "\n",
    "cat_int = category_to_int(X[:,25:26])\t\n",
    "X[:,25:26] = integerize_feature(X[:,25:26],cat_int).reshape(len(X[:,25:26]),1)\n",
    "\n",
    "cat_int = category_to_int(X[:,28:29])\n",
    "X[:,28:29] = integerize_feature(X[:,28:29],cat_int).reshape(len(X[:,28:29]),1)\n"
   ]
  },
  {
   "cell_type": "code",
   "execution_count": 13,
   "metadata": {},
   "outputs": [
    {
     "name": "stdout",
     "output_type": "stream",
     "text": [
      "[[-0.16188038 -1.57821986  0.37946651 ...,  0.20876712 -0.16104504\n",
      "  -0.27316186]\n",
      " [-0.16188038 -1.57821986 -0.77577499 ...,  0.49159905 -0.16104504\n",
      "  -0.37335512]\n",
      " [-0.16188038 -1.57821986 -0.19815424 ..., -1.03569339 -0.16104504\n",
      "   0.18772712]\n",
      " ..., \n",
      " [-0.1856221  -1.57821986 -0.19815424 ...,  0.83099737 -0.16104504\n",
      "   1.0293505 ]\n",
      " [-0.1856221  -1.57821986  0.37946651 ...,  0.15220073 -0.16104504\n",
      "   1.16461139]\n",
      " [-0.1856221  -1.57821986  0.37946651 ...,  0.7178646  -0.16104504\n",
      "   0.06081566]]\n"
     ]
    }
   ],
   "source": [
    "imp = Imputer(missing_values='NaN', strategy='mean', axis=0)\n",
    "new_X = pd.to_numeric(X.reshape(-1, ), errors='coerce').reshape(X.shape)\n",
    "X_imp = imp.fit_transform(new_X)\n",
    "X_imp = scale(X_imp)\n",
    "print (X_imp)"
   ]
  },
  {
   "cell_type": "markdown",
   "metadata": {},
   "source": [
    "### Visualize the data using PCA with first 2 Principal Components"
   ]
  },
  {
   "cell_type": "code",
   "execution_count": 14,
   "metadata": {},
   "outputs": [
    {
     "data": {
      "text/plain": [
       "<matplotlib.collections.PathCollection at 0x1fe140ac4e0>"
      ]
     },
     "execution_count": 14,
     "metadata": {},
     "output_type": "execute_result"
    },
    {
     "data": {
      "image/png": "[encoded data removed]",
      "text/plain": [
       "<matplotlib.figure.Figure at 0x1fe13b682e8>"
      ]
     },
     "metadata": {},
     "output_type": "display_data"
    }
   ],
   "source": [
    "from sklearn import decomposition\n",
    "from mpl_toolkits.mplot3d import Axes3D\n",
    "from matplotlib import pyplot\n",
    "%matplotlib inline  \n",
    "\n",
    "pca = decomposition.PCA(n_components=2)\n",
    "pca.fit(X_imp)\n",
    "X_pca = pca.transform(X_imp)\n",
    "pyplot.scatter(X_pca[:,0:1], X_pca[:,1:2], marker='.', c=['B' if x[0]=='0' else 'R' for x in y])"
   ]
  },
  {
   "cell_type": "markdown",
   "metadata": {},
   "source": [
    "### Measure 10-fold cross validation Accuracy of Logistic Regression and Naive Bayes"
   ]
  },
  {
   "cell_type": "code",
   "execution_count": 15,
   "metadata": {},
   "outputs": [],
   "source": [
    "def do_cross_validation(X, y, clf, n_folds=10, verbose=False):\n",
    "\n",
    "    accuracies = []\n",
    "    cv = KFold(len(y), n_folds)\n",
    "    for train_idx, test_idx in cv:        \n",
    "        clf.fit(X[train_idx], y[train_idx])\n",
    "        predicted = clf.predict(X[test_idx])\n",
    "        acc = accuracy_score(y[test_idx], predicted)\n",
    "        accuracies.append(acc)                \n",
    "    avg = np.mean(accuracies)\n",
    "    return avg"
   ]
  },
  {
   "cell_type": "code",
   "execution_count": 19,
   "metadata": {},
   "outputs": [
    {
     "name": "stdout",
     "output_type": "stream",
     "text": [
      "Logistic Regression 89.403008765 %\n",
      "Naive Bayes 71.2302587766 %\n"
     ]
    }
   ],
   "source": [
    "print ('Logistic Regression', do_cross_validation(X_imp, y,LogisticRegression(), n_folds=10, verbose=False) * 100,'%')\n",
    "print ('Naive Bayes', do_cross_validation(X_imp, y,GaussianNB(), n_folds=10, verbose=False) * 100,'%')"
   ]
  },
  {
   "cell_type": "markdown",
   "metadata": {},
   "source": [
    "### As seen above, LR has a validation accuracy of 89.4%. Let's fit the model and try it out on test Data"
   ]
  },
  {
   "cell_type": "code",
   "execution_count": 20,
   "metadata": {},
   "outputs": [
    {
     "data": {
      "text/plain": [
       "LogisticRegression(C=1.0, class_weight=None, dual=False, fit_intercept=True,\n",
       "          intercept_scaling=1, max_iter=100, multi_class='ovr', n_jobs=1,\n",
       "          penalty='l2', random_state=None, solver='liblinear', tol=0.0001,\n",
       "          verbose=0, warm_start=False)"
      ]
     },
     "execution_count": 20,
     "metadata": {},
     "output_type": "execute_result"
    }
   ],
   "source": [
    "clf = LogisticRegression()\n",
    "clf.fit(X_imp,y)"
   ]
  },
  {
   "cell_type": "markdown",
   "metadata": {},
   "source": [
    "#### Read the Test Data, PreProcess it  according to 5 points mentioned during preprocessing train Data"
   ]
  },
  {
   "cell_type": "code",
   "execution_count": 21,
   "metadata": {},
   "outputs": [
    {
     "data": {
      "text/plain": [
       "array([['REFID', 'PURCHDATE', 'AUCTION', ..., 'VEHBCOST', 'ISONLINESALE',\n",
       "        'WARRANTYCOST'],\n",
       "       ['73015', '12/2/2009', 'ADESA', ..., '6500', '0', '2152'],\n",
       "       ['73016', '12/2/2009', 'ADESA', ..., '6300', '0', '1118'],\n",
       "       ..., \n",
       "       ['121744', '11/17/2010', 'MANHEIM', ..., '6335', '0', '594'],\n",
       "       ['121745', '11/17/2010', 'MANHEIM', ..., '8055', '0', '1038'],\n",
       "       ['121746', '11/17/2010', 'MANHEIM', ..., '7755', '0', '5392']], \n",
       "      dtype='<U33')"
      ]
     },
     "execution_count": 21,
     "metadata": {},
     "output_type": "execute_result"
    }
   ],
   "source": [
    "result = np.array(list(csv.reader(open(TEST_FILE, \"r\"), delimiter=\",\"))).astype(\"str\")\n",
    "result = np.char.upper(result)\n",
    "result"
   ]
  },
  {
   "cell_type": "code",
   "execution_count": 22,
   "metadata": {},
   "outputs": [
    {
     "name": "stdout",
     "output_type": "stream",
     "text": [
      "[[-0.26014819 -1.38418705 -0.19158447 ..., -0.14847128 -0.15001487\n",
      "   1.42303744]\n",
      " [-0.26014819 -1.38418705 -0.19158447 ..., -0.26230061 -0.15001487\n",
      "  -0.2665141 ]\n",
      " [-0.26014819 -1.38418705  0.38628925 ...,  1.67279798 -0.15001487\n",
      "  -0.10801652]\n",
      " ..., \n",
      " [ 1.39748936  0.15894865  0.38628925 ..., -0.24238048 -0.15001487\n",
      "  -1.12272784]\n",
      " [ 1.39748936  0.15894865 -0.19158447 ...,  0.73655175 -0.15001487\n",
      "  -0.39723376]\n",
      " [ 1.39748936  0.15894865 -1.34733192 ...,  0.56580775 -0.15001487\n",
      "   6.71718348]]\n"
     ]
    }
   ],
   "source": [
    "X_test = result[1:,1:]\n",
    "X_test[:,0:1] = convert_to_epoch(X_test[:,0:1]).reshape(len(X_test[:,0:1]),1)\n",
    "\n",
    "cat_int = category_to_int(X_test[:,1:2])\n",
    "X_test[:,1:2] = integerize_feature(X_test[:,1:2],cat_int).reshape(len(X_test[:,1:2]),1)\n",
    "\n",
    "cat_int = category_to_int(X_test[:,4:5])\n",
    "X_test[:,4:5] = integerize_feature(X_test[:,4:5],cat_int).reshape(len(X_test[:,4:5]),1)\n",
    "\n",
    "cat_int = category_to_int(X_test[:,5:6])\n",
    "X_test[:,5:6] = integerize_feature(X_test[:,5:6],cat_int).reshape(len(X_test[:,5:6]),1)\n",
    "\n",
    "cat_int = category_to_int(X_test[:,6:7])\n",
    "X_test[:,6:7] = integerize_feature(X_test[:,6:7],cat_int).reshape(len(X_test[:,6:7]),1)\n",
    "\n",
    "cat_int = category_to_int(X_test[:,7:8])\n",
    "X_test[:,7:8] = integerize_feature(X_test[:,7:8],cat_int).reshape(len(X_test[:,7:8]),1)\n",
    "\n",
    "cat_int = category_to_int(X_test[:,8:9])\n",
    "X_test[:,8:9] = integerize_feature(X_test[:,8:9],cat_int).reshape(len(X_test[:,8:9]),1)\n",
    "\n",
    "cat_int = category_to_int(X_test[:,9:10])\n",
    "X_test[:,9:10] = integerize_feature(X_test[:,9:10],cat_int).reshape(len(X_test[:,9:10]),1)\n",
    "\n",
    "cat_int = category_to_int(X_test[:,11:12])\n",
    "X_test[:,11:12] = integerize_feature(X_test[:,11:12],cat_int).reshape(len(X_test[:,11:12]),1)\n",
    "\n",
    "cat_int = category_to_int(X_test[:,13:14])\n",
    "X_test[:,13:14] = integerize_feature(X_test[:,13:14],cat_int).reshape(len(X_test[:,13:14]),1)\n",
    "\n",
    "cat_int = category_to_int(X_test[:,14:15])\n",
    "X_test[:,14:15] = integerize_feature(X_test[:,14:15],cat_int).reshape(len(X_test[:,14:15]),1)\n",
    "\n",
    "cat_int = category_to_int(X_test[:,15:16])\n",
    "X_test[:,15:16] = integerize_feature(X_test[:,15:16],cat_int).reshape(len(X_test[:,15:16]),1)\n",
    "\n",
    "cat_int = category_to_int(X_test[:,24:25])\n",
    "X_test[:,24:25] = integerize_feature(X_test[:,24:25],cat_int).reshape(len(X_test[:,24:25]),1)\n",
    "\n",
    "cat_int = category_to_int(X_test[:,25:26])\n",
    "X_test[:,25:26] = integerize_feature(X_test[:,25:26],cat_int).reshape(len(X_test[:,25:26]),1)\n",
    "\n",
    "cat_int = category_to_int(X_test[:,28:29])\n",
    "\n",
    "X_test[:,28:29] = integerize_feature(X_test[:,28:29],cat_int).reshape(len(X_test[:,28:29]),1)\n",
    "imp = Imputer(missing_values='NaN', strategy='mean', axis=0)\n",
    "new_X_test = pd.to_numeric(X_test.reshape(-1, ), errors='coerce').reshape(X_test.shape)\n",
    "X_imp_test = imp.fit_transform(new_X_test)\n",
    "X_imp_test = scale(X_imp_test)\n",
    "print (X_imp_test)"
   ]
  },
  {
   "cell_type": "code",
   "execution_count": 23,
   "metadata": {},
   "outputs": [
    {
     "data": {
      "text/plain": [
       "array(['0', '0', '0', ..., '0', '0', '0'], \n",
       "      dtype='<U33')"
      ]
     },
     "execution_count": 23,
     "metadata": {},
     "output_type": "execute_result"
    }
   ],
   "source": [
    "clf.predict(X_imp_test)"
   ]
  },
  {
   "cell_type": "markdown",
   "metadata": {},
   "source": [
    "### Conclusion:\n",
    "#### Validation accuracy for Logistic Regression is 89.4% and Naive Bayes is 71.23%"
   ]
  },
  {
   "cell_type": "markdown",
   "metadata": {},
   "source": [
    "### Future Work:\n",
    "#### 1. The DataSet is Heavily Biased. Should try to balance the dataset, by including equal number of training examples for both classes\n",
    "#### 2. Visualize the correlation between features and target Values\n",
    "#### 3. Try approaches such as Bagging\n",
    "#### 4. Here only accuracy has been measured. Try other metrics such as F1- Measure, AUC etc\n",
    "#### 5. For models such as SVM, carefully finetune Hyper-params by Varying 'C' value, and try other kernels such as poly kernel"
   ]
  },
  {
   "cell_type": "code",
   "execution_count": null,
   "metadata": {
    "collapsed": true
   },
   "outputs": [],
   "source": []
  }
 ],
 "metadata": {
  "kernelspec": {
   "display_name": "Python 3",
   "language": "python",
   "name": "python3"
  },
  "language_info": {
   "codemirror_mode": {
    "name": "ipython",
    "version": 3
   },
   "file_extension": ".py",
   "mimetype": "text/x-python",
   "name": "python",
   "nbconvert_exporter": "python",
   "pygments_lexer": "ipython3",
   "version": "3.5.3"
  }
 },
 "nbformat": 4,
 "nbformat_minor": 2
}
